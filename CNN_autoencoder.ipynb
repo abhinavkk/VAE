{
  "nbformat": 4,
  "nbformat_minor": 0,
  "metadata": {
    "colab": {
      "name": "Untitled5.ipynb",
      "provenance": []
    },
    "kernelspec": {
      "name": "python3",
      "display_name": "Python 3"
    },
    "language_info": {
      "name": "python"
    }
  },
  "cells": [
    {
      "cell_type": "markdown",
      "metadata": {
        "id": "Zz2T0QYYpwVR"
      },
      "source": [
        "## Exercise 1: Creating an image denoiser using a CNN autoencoder. (30 points)\n",
        "In this exercise you are trying to build a autoencoder with CNN layers that can denoise images. \n",
        "\n",
        "### Task 1: Create additive noise transform\n",
        "1. Add code to `AddGaussianNoise` transform class that will:\n",
        "  * Add additive Gaussian noise to the batch of input images (i.e add noise with gaussian distribution on each pixel). The noise for every pixel should have mean value 0 and standard deviation of 0.3, i.e $ \\epsilon \\sim N(0, 0.3)$.\n",
        "  * Clip the values to be between 0 and 1 again as they may be outside the range for pixel values after adding Gaussian noise.\n",
        "2. Plot the first 3 training images and their noisy counterparts in a 2x3 subplot with appropriate titles, figure size, label, etc.\n",
        "\n",
        "In this task, we concatenate the original dataset and noisy dataset and get a single dataloader. You should be careful with what you load at each iteration. In a more general case, there are many ways of dealing with multiple datasets. For example, you can create separate dataloaders and use ``zip`` to load samples from them. Here is a post discussing how to use ``zip`` [https://discuss.pytorch.org/t/two-dataloaders-from-two-different-datasets-within-the-same-loop/87766/1](https://discuss.pytorch.org/t/two-dataloaders-from-two-different-datasets-within-the-same-loop/87766/1). "
      ]
    },
    {
      "cell_type": "code",
      "metadata": {
        "id": "wTo6hwMo-6Ai",
        "colab": {
          "base_uri": "https://localhost:8080/",
          "height": 505,
          "referenced_widgets": [
            "0dec1c7593dc4aef8266440e2462a0a5",
            "711f11b9ac7946c295eff33bdf043d83",
            "f9ace24414a6496e9a2bf78501bd7f53",
            "e8381dd7f1a9443b9a93d195c3d097c4",
            "060aff79d9d34a9e93b32aa2bf195def",
            "798fa13839f041158cdb8f381b4b7445",
            "78653bb3e024414c9c7214eca0a6d53b",
            "ad5746f022534ac389eb6d07efd57ec1",
            "05fa22d7862b45d1b0c56080d68bd5b3",
            "34408e3bb61c4ca9be93b40f915f5e80",
            "2dd31771d8ef467c8c3be985e1ff23c3",
            "8fae92dc81df4ef88fce3561be67f6a2",
            "f6b85fac2e7045c7a8fa6a33750dec79",
            "dd844c0bf5e44b23a28d8ca852ca3c68",
            "71f3b0eee34f4203a9befb2e679f14e4",
            "911522743d754e39ae986f73bb16cb19",
            "face599fe0ea4651ba2b8dcbee0ec30e",
            "bf541cfc969c45ef8e7da49ebfbcc2fa",
            "16aeb24f65d74fbbae7bca53c0967f5f",
            "27ff1a8c1f874cb9903d9cda23ae681a",
            "313c7e4c804347cbac6fd90e0e9b1a0f",
            "31e55dd470064b61aa461df0d0998eeb",
            "43ad94fb805944438913c210e96f8c43",
            "0d9917cad5e245c08db1af9198a6ee3b",
            "ace44f5cba20416e8c706fd01896e933",
            "9c36bc9d5afe4ef498b43c34003cd9b3",
            "8211bab5e9aa403e941c091dd140edfb",
            "aee6c579a5e348d6a468a1264bef8c25",
            "48c02b04a21e494a984b04c60d2f4cca",
            "0d74abca8e094a66b7efa5270cecc716",
            "f39ce4bb916746919797ec152f603ee2",
            "f658e072f31e4777a947c4900257d590",
            "a760b349a509455da0182351982162e6",
            "499e9b33b41044e2afd571f693bc8f9c",
            "25cf105fbec04d86b2f80d6e0a944805",
            "d4047ed6fcbe4a43b0c60f23628d19b5",
            "f1562fbe49e1464d9787de7cf932f6b5",
            "c71dd565876246bbb36e10ecadd972ab",
            "0cfef7061598460385054f75b0efae57",
            "8198a1a331004c8eaadc0dd5faececd3",
            "15236e72652d40c09eb50497655d74af",
            "6d0be42fe856499988a0a2c0a4b71db3",
            "412500c00b1e417c804261bcf0f49e11",
            "f61de4869742438fa3d422bccd117093"
          ]
        },
        "outputId": "c2234b25-b149-45dc-ec50-cfba1e56ee9d"
      },
      "source": [
        "# Import and load MNIST data\n",
        "import torchvision\n",
        "import torch\n",
        "import matplotlib.pyplot as plt\n",
        "\n",
        "class AddGaussianNoise(object):\n",
        "  def __init__(self, mean=0., std=1.):\n",
        "    self.mean = mean\n",
        "    self.std = std\n",
        "  \n",
        "  def __call__(self, tensor):\n",
        "    return torch.clamp(tensor + torch.randn(tensor.size()) * self.std + self.mean, min=0., max=1.)\n",
        "\n",
        "  def __repr(self):\n",
        "    return self.__class__.__name__ + '(mean={0}, std={1})'.format(self.mean, self.std) \n",
        "\n",
        "transform_noisy = torchvision.transforms.Compose([torchvision.transforms.ToTensor(), AddGaussianNoise(0.,0.3)])\n",
        "transform_original = torchvision.transforms.Compose([torchvision.transforms.ToTensor()])\n",
        "\n",
        "train_dataset_noisy = torchvision.datasets.MNIST('data', train=True, download=True, transform=transform_noisy)\n",
        "train_dataset_original = torchvision.datasets.MNIST('data', train=True, download=True, transform=transform_original)\n",
        "test_dataset_noisy = torchvision.datasets.MNIST('data', train=False, download=True, transform=transform_noisy)\n",
        "test_dataset_original = torchvision.datasets.MNIST('data', train=False, download=True, transform=transform_original)\n",
        "\n",
        "print(torch.max(train_dataset_noisy.__getitem__(0)[0]).item())\n",
        "print(torch.min(train_dataset_noisy.__getitem__(0)[0]).item())"
      ],
      "execution_count": null,
      "outputs": [
        {
          "output_type": "stream",
          "name": "stdout",
          "text": [
            "Downloading http://yann.lecun.com/exdb/mnist/train-images-idx3-ubyte.gz\n",
            "Downloading http://yann.lecun.com/exdb/mnist/train-images-idx3-ubyte.gz to data/MNIST/raw/train-images-idx3-ubyte.gz\n"
          ]
        },
        {
          "output_type": "display_data",
          "data": {
            "application/vnd.jupyter.widget-view+json": {
              "model_id": "0dec1c7593dc4aef8266440e2462a0a5",
              "version_minor": 0,
              "version_major": 2
            },
            "text/plain": [
              "  0%|          | 0/9912422 [00:00<?, ?it/s]"
            ]
          },
          "metadata": {}
        },
        {
          "output_type": "stream",
          "name": "stdout",
          "text": [
            "Extracting data/MNIST/raw/train-images-idx3-ubyte.gz to data/MNIST/raw\n",
            "\n",
            "Downloading http://yann.lecun.com/exdb/mnist/train-labels-idx1-ubyte.gz\n",
            "Downloading http://yann.lecun.com/exdb/mnist/train-labels-idx1-ubyte.gz to data/MNIST/raw/train-labels-idx1-ubyte.gz\n"
          ]
        },
        {
          "output_type": "display_data",
          "data": {
            "application/vnd.jupyter.widget-view+json": {
              "model_id": "8fae92dc81df4ef88fce3561be67f6a2",
              "version_minor": 0,
              "version_major": 2
            },
            "text/plain": [
              "  0%|          | 0/28881 [00:00<?, ?it/s]"
            ]
          },
          "metadata": {}
        },
        {
          "output_type": "stream",
          "name": "stdout",
          "text": [
            "Extracting data/MNIST/raw/train-labels-idx1-ubyte.gz to data/MNIST/raw\n",
            "\n",
            "Downloading http://yann.lecun.com/exdb/mnist/t10k-images-idx3-ubyte.gz\n",
            "Downloading http://yann.lecun.com/exdb/mnist/t10k-images-idx3-ubyte.gz to data/MNIST/raw/t10k-images-idx3-ubyte.gz\n"
          ]
        },
        {
          "output_type": "display_data",
          "data": {
            "application/vnd.jupyter.widget-view+json": {
              "model_id": "43ad94fb805944438913c210e96f8c43",
              "version_minor": 0,
              "version_major": 2
            },
            "text/plain": [
              "  0%|          | 0/1648877 [00:00<?, ?it/s]"
            ]
          },
          "metadata": {}
        },
        {
          "output_type": "stream",
          "name": "stdout",
          "text": [
            "Extracting data/MNIST/raw/t10k-images-idx3-ubyte.gz to data/MNIST/raw\n",
            "\n",
            "Downloading http://yann.lecun.com/exdb/mnist/t10k-labels-idx1-ubyte.gz\n",
            "Downloading http://yann.lecun.com/exdb/mnist/t10k-labels-idx1-ubyte.gz to data/MNIST/raw/t10k-labels-idx1-ubyte.gz\n"
          ]
        },
        {
          "output_type": "display_data",
          "data": {
            "application/vnd.jupyter.widget-view+json": {
              "model_id": "499e9b33b41044e2afd571f693bc8f9c",
              "version_minor": 0,
              "version_major": 2
            },
            "text/plain": [
              "  0%|          | 0/4542 [00:00<?, ?it/s]"
            ]
          },
          "metadata": {}
        },
        {
          "output_type": "stream",
          "name": "stdout",
          "text": [
            "Extracting data/MNIST/raw/t10k-labels-idx1-ubyte.gz to data/MNIST/raw\n",
            "\n",
            "1.0\n",
            "0.0\n"
          ]
        },
        {
          "output_type": "stream",
          "name": "stderr",
          "text": [
            "/usr/local/lib/python3.7/dist-packages/torchvision/datasets/mnist.py:498: UserWarning: The given NumPy array is not writeable, and PyTorch does not support non-writeable tensors. This means you can write to the underlying (supposedly non-writeable) NumPy array using the tensor. You may want to copy the array to protect its data or make it writeable before converting it to a tensor. This type of warning will be suppressed for the rest of this program. (Triggered internally at  /pytorch/torch/csrc/utils/tensor_numpy.cpp:180.)\n",
            "  return torch.from_numpy(parsed.astype(m[2], copy=False)).view(*s)\n"
          ]
        }
      ]
    },
    {
      "cell_type": "code",
      "metadata": {
        "id": "aVGreIhv8WKh",
        "colab": {
          "base_uri": "https://localhost:8080/",
          "height": 590
        },
        "outputId": "ba9fdbc3-df86-47b6-b1a4-fe8d771f00e6"
      },
      "source": [
        "class ConcatDataset(torch.utils.data.Dataset):\n",
        "  def __init__(self, *datasets):\n",
        "    self.datasets = datasets\n",
        "\n",
        "  def __getitem__(self, i):\n",
        "    return tuple(d[i][0] for d in self.datasets)\n",
        "\n",
        "  def __len__(self):\n",
        "    return min(len(d) for d in self.datasets)\n",
        "\n",
        "\n",
        "batch_size_train, batch_size_test = 64, 1000\n",
        "train_loader = torch.utils.data.DataLoader(ConcatDataset(train_dataset_noisy, train_dataset_original),\n",
        "                      batch_size=batch_size_train, shuffle=True)\n",
        "test_loader = torch.utils.data.DataLoader(ConcatDataset(test_dataset_noisy, test_dataset_original),\n",
        "                      batch_size=batch_size_test, shuffle=False)\n",
        "\n",
        "###########################   <YOUR CODE>  ############################\n",
        "# Plot the first 3 training images with corresponding noisy images \n",
        "\n",
        "batch_idx, (images_noisy, images_original) = next(enumerate(train_loader))\n",
        "\n",
        "fig, axes = plt.subplots(2, 3, figsize = (10, 10))\n",
        "grid = plt.GridSpec(2,1)\n",
        "titles = ['Original Images', 'Noisy Images']\n",
        "\n",
        "for i in range(2):\n",
        "  row = fig.add_subplot(grid[i])\n",
        "  row.set_title(titles[i])\n",
        "  row.set_axis_off()\n",
        "\n",
        "for idx in range(3):\n",
        "  axes[0][idx].imshow(images_original[idx][0], cmap='gray')\n",
        "  axes[1][idx].imshow(images_noisy[idx][0], cmap='gray')\n",
        "#########################  <END YOUR CODE>  ############################"
      ],
      "execution_count": null,
      "outputs": [
        {
          "output_type": "display_data",
          "data": {
            "image/png": "[encoded data removed]",
            "text/plain": [
              "<Figure size 720x720 with 8 Axes>"
            ]
          },
          "metadata": {
            "needs_background": "light"
          }
        }
      ]
    },
    {
      "cell_type": "markdown",
      "metadata": {
        "id": "DFKqew7r-E-q"
      },
      "source": [
        "### Task 2: Create and train a denoising autoencoder\n",
        "1. Build an autoencoder neural network structure with encoders and decoders that is a little more complicated than in the instructions. You can also create the network to have convolutional or transpose convolutional layers. (You can follow the instructions code skeleton with a key difference of using convolutional layers).\n",
        "2. Move your model to GPU so that you can train your model with GPU. (This step can be simultaneously implemented in the above step)\n",
        "3. Train your denoising autoencoder model with appropriate optimizer and **MSE** loss function. The loss function should be computed between the output of the noisy images and the clean images, i.e., $L(x, g(f(\\tilde{x})))$, where $\\tilde{x} = x + \\epsilon$ is the noisy image and $\\epsilon$ is the Gaussian niose. You should train your model with enough epochs so that your loss reaches a relatively steady value. **Note: Your loss on the test data should be lower than 20.** You may have to experiment with various model architectures to achieve this test loss.\n",
        "4. Visualize your result with a 3 x 3 grid of subplots. You should show 3 test images, 3 test images with noise added, and 3 test images reconstructed after passing your noisy test images through the DAE."
      ]
    },
    {
      "cell_type": "code",
      "metadata": {
        "colab": {
          "base_uri": "https://localhost:8080/"
        },
        "id": "KZLxbMrLZTCO",
        "outputId": "3cb42151-bb2e-42a6-cc7f-917d3e82027e"
      },
      "source": [
        "import torch\n",
        "\n",
        "device = 'cuda' if torch.cuda.is_available()==True else 'cpu'\n",
        "device = torch.device(device)\n",
        "print(f'We are using device name \"{device}\"')"
      ],
      "execution_count": null,
      "outputs": [
        {
          "output_type": "stream",
          "name": "stdout",
          "text": [
            "We are using device name \"cuda\"\n"
          ]
        }
      ]
    },
    {
      "cell_type": "code",
      "metadata": {
        "id": "FIVO5T4JgA_N"
      },
      "source": [
        "import torch.nn as nn\n",
        "import torch.nn.functional as F\n",
        "import torch.optim as optim\n",
        "\n",
        "class our_AE(nn.Module):\n",
        "  def __init__(self):\n",
        "    super(our_AE, self).__init__()\n",
        "\n",
        "    # encoder\n",
        "    self.en_conv1 = nn.Conv2d(1, 16, kernel_size=3, padding='same')\n",
        "    self.en_maxpool1 = nn.MaxPool2d(kernel_size=2)\n",
        "    self.en_conv2 = nn.Conv2d(16, 8, kernel_size=3, padding='same')\n",
        "    self.en_maxpool2 = nn.MaxPool2d(kernel_size=2)\n",
        "\n",
        "    # decoder\n",
        "    self.de_conv1 = nn.Conv2d(8, 8, kernel_size=3, padding='same')\n",
        "    self.de_upsample1 = nn.Upsample(scale_factor = 2)\n",
        "    self.de_conv2 = nn.Conv2d(8, 16, kernel_size=3, padding='same')\n",
        "    self.de_upsample2 = nn.Upsample(scale_factor = 2)\n",
        "    self.de_conv3 = nn.Conv2d(16, 1, kernel_size=3, padding='same')\n",
        "\n",
        "  def forward(self, x):\n",
        "    # encoding layers\n",
        "    x = x.view(-1, 1, 28, 28)\n",
        "    x = F.relu(self.en_maxpool1(self.en_conv1(x)))\n",
        "    x = F.relu(self.en_maxpool2(self.en_conv2(x)))\n",
        "\n",
        "    #decoding layers\n",
        "    x = F.relu(self.de_upsample1(self.de_conv1(x)))\n",
        "    x = F.relu(self.de_upsample2(self.de_conv2(x)))\n",
        "    x = F.sigmoid(self.de_conv3(x))\n",
        "    \n",
        "    return x\n",
        "\n",
        "AE = our_AE().to(device)\n",
        "optimizer = optim.Adam(AE.parameters(), lr=1e-4)\n",
        "loss_fn = nn.MSELoss(reduction='sum')"
      ],
      "execution_count": null,
      "outputs": []
    },
    {
      "cell_type": "code",
      "metadata": {
        "id": "yC-3FJeQZfn4"
      },
      "source": [
        "def train(epoch, device):\n",
        "\n",
        "  AE.train() # we need to set the mode for our model\n",
        "\n",
        "  for batch_idx, (images_noisy, images_original) in enumerate(train_loader):\n",
        "\n",
        "    optimizer.zero_grad()\n",
        "    images_noisy = images_noisy.to(device)\n",
        "    images_original = images_original.to(device)\n",
        "    output = AE(images_noisy)\n",
        "    loss = loss_fn(output, images_original) # Here is a typical loss function (Mean square error)\n",
        "    loss.backward()\n",
        "    optimizer.step()\n",
        "\n",
        "    if batch_idx % 10 == 0: # We record our output every 10 batches\n",
        "      train_losses.append(loss.item()/batch_size_train) # item() is to get the value of the tensor directly\n",
        "      train_counter.append(\n",
        "        (batch_idx*64) + ((epoch-1)*len(train_loader.dataset)))\n",
        "    if batch_idx % 100 == 0: # We visulize our output every 100 batches\n",
        "      print(f'Epoch {epoch}: [{batch_idx*len(images_noisy)}/{len(train_loader.dataset)}] Loss: {loss.item()/batch_size_train}')\n",
        "\n",
        "\n",
        "def test(epoch, device):\n",
        "\n",
        "  AE.eval() # we need to set the mode for our model\n",
        "\n",
        "  test_loss = 0\n",
        "  correct = 0\n",
        "\n",
        "  with torch.no_grad():\n",
        "    for images_noisy, images_original in test_loader:\n",
        "      images_noisy = images_noisy.to(device)\n",
        "      images_original = images_original.to(device)\n",
        "      output = AE(images_noisy)\n",
        "      test_loss += loss_fn(output, images_original).item()\n",
        "  \n",
        "  test_loss /= len(test_loader.dataset)\n",
        "  test_losses.append(test_loss)\n",
        "  test_counter.append(len(train_loader.dataset)*epoch)\n",
        "\n",
        "  print(f'Test result on epoch {epoch}: Avg loss is {test_loss}')"
      ],
      "execution_count": null,
      "outputs": []
    },
    {
      "cell_type": "code",
      "metadata": {
        "colab": {
          "base_uri": "https://localhost:8080/"
        },
        "id": "RS7z5x25aCdd",
        "outputId": "39141484-e570-4700-bfc3-e73f8b4c8b0c"
      },
      "source": [
        "train_losses = []\n",
        "train_counter = []\n",
        "test_losses = []\n",
        "test_counter = []\n",
        "max_epoch = 20\n",
        "\n",
        "for epoch in range(1, max_epoch+1):\n",
        "  train(epoch, device=device)\n",
        "  test(epoch, device=device)"
      ],
      "execution_count": null,
      "outputs": [
        {
          "output_type": "stream",
          "name": "stderr",
          "text": [
            "/usr/local/lib/python3.7/dist-packages/torch/nn/functional.py:1805: UserWarning: nn.functional.sigmoid is deprecated. Use torch.sigmoid instead.\n",
            "  warnings.warn(\"nn.functional.sigmoid is deprecated. Use torch.sigmoid instead.\")\n"
          ]
        },
        {
          "output_type": "stream",
          "name": "stdout",
          "text": [
            "Epoch 1: [0/60000] Loss: 183.34234619140625\n",
            "Epoch 1: [6400/60000] Loss: 139.6888885498047\n",
            "Epoch 1: [12800/60000] Loss: 95.86589050292969\n",
            "Epoch 1: [19200/60000] Loss: 83.39498901367188\n",
            "Epoch 1: [25600/60000] Loss: 62.46934509277344\n",
            "Epoch 1: [32000/60000] Loss: 51.85551452636719\n",
            "Epoch 1: [38400/60000] Loss: 48.10029983520508\n",
            "Epoch 1: [44800/60000] Loss: 38.653419494628906\n",
            "Epoch 1: [51200/60000] Loss: 30.068370819091797\n",
            "Epoch 1: [57600/60000] Loss: 26.766721725463867\n",
            "Test result on epoch 1: Avg loss is 24.9104900390625\n",
            "Epoch 2: [0/60000] Loss: 24.03371810913086\n",
            "Epoch 2: [6400/60000] Loss: 23.501224517822266\n",
            "Epoch 2: [12800/60000] Loss: 22.074623107910156\n",
            "Epoch 2: [19200/60000] Loss: 21.235136032104492\n",
            "Epoch 2: [25600/60000] Loss: 19.855337142944336\n",
            "Epoch 2: [32000/60000] Loss: 18.51834487915039\n",
            "Epoch 2: [38400/60000] Loss: 16.286582946777344\n",
            "Epoch 2: [44800/60000] Loss: 17.71118927001953\n",
            "Epoch 2: [51200/60000] Loss: 15.23100757598877\n",
            "Epoch 2: [57600/60000] Loss: 15.750223159790039\n",
            "Test result on epoch 2: Avg loss is 15.2360560546875\n",
            "Epoch 3: [0/60000] Loss: 14.934524536132812\n",
            "Epoch 3: [6400/60000] Loss: 14.664310455322266\n",
            "Epoch 3: [12800/60000] Loss: 14.163337707519531\n",
            "Epoch 3: [19200/60000] Loss: 15.454673767089844\n",
            "Epoch 3: [25600/60000] Loss: 14.638107299804688\n",
            "Epoch 3: [32000/60000] Loss: 11.67949390411377\n",
            "Epoch 3: [38400/60000] Loss: 12.837305068969727\n",
            "Epoch 3: [44800/60000] Loss: 13.302165985107422\n",
            "Epoch 3: [51200/60000] Loss: 11.88083267211914\n",
            "Epoch 3: [57600/60000] Loss: 11.558832168579102\n",
            "Test result on epoch 3: Avg loss is 11.85722978515625\n",
            "Epoch 4: [0/60000] Loss: 12.390650749206543\n",
            "Epoch 4: [6400/60000] Loss: 12.228286743164062\n",
            "Epoch 4: [12800/60000] Loss: 11.854255676269531\n",
            "Epoch 4: [19200/60000] Loss: 11.921814918518066\n",
            "Epoch 4: [25600/60000] Loss: 11.16973876953125\n",
            "Epoch 4: [32000/60000] Loss: 10.36246109008789\n",
            "Epoch 4: [38400/60000] Loss: 11.609944343566895\n",
            "Epoch 4: [44800/60000] Loss: 11.324567794799805\n",
            "Epoch 4: [51200/60000] Loss: 10.174152374267578\n",
            "Epoch 4: [57600/60000] Loss: 10.394798278808594\n",
            "Test result on epoch 4: Avg loss is 10.29628212890625\n",
            "Epoch 5: [0/60000] Loss: 10.809146881103516\n",
            "Epoch 5: [6400/60000] Loss: 10.181791305541992\n",
            "Epoch 5: [12800/60000] Loss: 9.903365135192871\n",
            "Epoch 5: [19200/60000] Loss: 9.196094512939453\n",
            "Epoch 5: [25600/60000] Loss: 10.777276992797852\n",
            "Epoch 5: [32000/60000] Loss: 10.017753601074219\n",
            "Epoch 5: [38400/60000] Loss: 10.577229499816895\n",
            "Epoch 5: [44800/60000] Loss: 9.448417663574219\n",
            "Epoch 5: [51200/60000] Loss: 9.836618423461914\n",
            "Epoch 5: [57600/60000] Loss: 8.947479248046875\n",
            "Test result on epoch 5: Avg loss is 9.41845341796875\n",
            "Epoch 6: [0/60000] Loss: 8.605182647705078\n",
            "Epoch 6: [6400/60000] Loss: 9.881677627563477\n",
            "Epoch 6: [12800/60000] Loss: 9.202444076538086\n",
            "Epoch 6: [19200/60000] Loss: 9.322202682495117\n",
            "Epoch 6: [25600/60000] Loss: 9.615982055664062\n",
            "Epoch 6: [32000/60000] Loss: 9.20753288269043\n",
            "Epoch 6: [38400/60000] Loss: 9.426347732543945\n",
            "Epoch 6: [44800/60000] Loss: 9.15892505645752\n",
            "Epoch 6: [51200/60000] Loss: 8.695574760437012\n",
            "Epoch 6: [57600/60000] Loss: 8.880853652954102\n",
            "Test result on epoch 6: Avg loss is 8.82982265625\n",
            "Epoch 7: [0/60000] Loss: 9.540311813354492\n",
            "Epoch 7: [6400/60000] Loss: 8.935202598571777\n",
            "Epoch 7: [12800/60000] Loss: 8.21040153503418\n",
            "Epoch 7: [19200/60000] Loss: 9.422430992126465\n",
            "Epoch 7: [25600/60000] Loss: 9.516026496887207\n",
            "Epoch 7: [32000/60000] Loss: 8.308477401733398\n",
            "Epoch 7: [38400/60000] Loss: 9.608367919921875\n",
            "Epoch 7: [44800/60000] Loss: 9.232992172241211\n",
            "Epoch 7: [51200/60000] Loss: 8.365102767944336\n",
            "Epoch 7: [57600/60000] Loss: 8.705960273742676\n",
            "Test result on epoch 7: Avg loss is 8.345530615234376\n",
            "Epoch 8: [0/60000] Loss: 8.681705474853516\n",
            "Epoch 8: [6400/60000] Loss: 7.768774032592773\n",
            "Epoch 8: [12800/60000] Loss: 8.493210792541504\n",
            "Epoch 8: [19200/60000] Loss: 8.602984428405762\n",
            "Epoch 8: [25600/60000] Loss: 8.516729354858398\n",
            "Epoch 8: [32000/60000] Loss: 9.162595748901367\n",
            "Epoch 8: [38400/60000] Loss: 7.9779052734375\n",
            "Epoch 8: [44800/60000] Loss: 7.88503885269165\n",
            "Epoch 8: [51200/60000] Loss: 8.60357666015625\n",
            "Epoch 8: [57600/60000] Loss: 8.981518745422363\n",
            "Test result on epoch 8: Avg loss is 7.990994482421875\n",
            "Epoch 9: [0/60000] Loss: 8.058488845825195\n",
            "Epoch 9: [6400/60000] Loss: 7.909387111663818\n",
            "Epoch 9: [12800/60000] Loss: 7.563510417938232\n",
            "Epoch 9: [19200/60000] Loss: 7.862222194671631\n",
            "Epoch 9: [25600/60000] Loss: 7.538858413696289\n",
            "Epoch 9: [32000/60000] Loss: 8.0657958984375\n",
            "Epoch 9: [38400/60000] Loss: 7.956727981567383\n",
            "Epoch 9: [44800/60000] Loss: 8.232477188110352\n",
            "Epoch 9: [51200/60000] Loss: 8.110658645629883\n",
            "Epoch 9: [57600/60000] Loss: 7.942747592926025\n",
            "Test result on epoch 9: Avg loss is 7.68606533203125\n",
            "Epoch 10: [0/60000] Loss: 7.9903998374938965\n",
            "Epoch 10: [6400/60000] Loss: 7.8290605545043945\n",
            "Epoch 10: [12800/60000] Loss: 7.725308418273926\n",
            "Epoch 10: [19200/60000] Loss: 8.364924430847168\n",
            "Epoch 10: [25600/60000] Loss: 7.82478141784668\n",
            "Epoch 10: [32000/60000] Loss: 7.888040065765381\n",
            "Epoch 10: [38400/60000] Loss: 7.974819660186768\n",
            "Epoch 10: [44800/60000] Loss: 7.194694519042969\n",
            "Epoch 10: [51200/60000] Loss: 6.852025985717773\n",
            "Epoch 10: [57600/60000] Loss: 7.340047836303711\n",
            "Test result on epoch 10: Avg loss is 7.391451953125\n",
            "Epoch 11: [0/60000] Loss: 7.436729431152344\n",
            "Epoch 11: [6400/60000] Loss: 7.1422624588012695\n",
            "Epoch 11: [12800/60000] Loss: 7.985360145568848\n",
            "Epoch 11: [19200/60000] Loss: 7.375934600830078\n",
            "Epoch 11: [25600/60000] Loss: 7.864354610443115\n",
            "Epoch 11: [32000/60000] Loss: 7.962385177612305\n",
            "Epoch 11: [38400/60000] Loss: 7.318564414978027\n",
            "Epoch 11: [44800/60000] Loss: 7.697849273681641\n",
            "Epoch 11: [51200/60000] Loss: 7.2201337814331055\n",
            "Epoch 11: [57600/60000] Loss: 6.958691596984863\n",
            "Test result on epoch 11: Avg loss is 7.209266796875\n",
            "Epoch 12: [0/60000] Loss: 7.899389743804932\n",
            "Epoch 12: [6400/60000] Loss: 7.665543556213379\n",
            "Epoch 12: [12800/60000] Loss: 7.512101173400879\n",
            "Epoch 12: [19200/60000] Loss: 7.263847351074219\n",
            "Epoch 12: [25600/60000] Loss: 7.530804634094238\n",
            "Epoch 12: [32000/60000] Loss: 7.120023727416992\n",
            "Epoch 12: [38400/60000] Loss: 7.060888290405273\n",
            "Epoch 12: [44800/60000] Loss: 7.1077375411987305\n",
            "Epoch 12: [51200/60000] Loss: 7.12403678894043\n",
            "Epoch 12: [57600/60000] Loss: 7.147987365722656\n",
            "Test result on epoch 12: Avg loss is 7.006247509765625\n",
            "Epoch 13: [0/60000] Loss: 6.442368507385254\n",
            "Epoch 13: [6400/60000] Loss: 7.273144245147705\n",
            "Epoch 13: [12800/60000] Loss: 6.77092170715332\n",
            "Epoch 13: [19200/60000] Loss: 7.419396877288818\n",
            "Epoch 13: [25600/60000] Loss: 7.72690486907959\n",
            "Epoch 13: [32000/60000] Loss: 6.912551403045654\n",
            "Epoch 13: [38400/60000] Loss: 7.056750297546387\n",
            "Epoch 13: [44800/60000] Loss: 6.507746696472168\n",
            "Epoch 13: [51200/60000] Loss: 7.01678466796875\n",
            "Epoch 13: [57600/60000] Loss: 7.7866530418396\n",
            "Test result on epoch 13: Avg loss is 6.877220166015625\n",
            "Epoch 14: [0/60000] Loss: 6.967859268188477\n",
            "Epoch 14: [6400/60000] Loss: 7.347200393676758\n",
            "Epoch 14: [12800/60000] Loss: 7.492806434631348\n",
            "Epoch 14: [19200/60000] Loss: 6.194547653198242\n",
            "Epoch 14: [25600/60000] Loss: 7.19057559967041\n",
            "Epoch 14: [32000/60000] Loss: 6.622682571411133\n",
            "Epoch 14: [38400/60000] Loss: 6.9809250831604\n",
            "Epoch 14: [44800/60000] Loss: 7.200010299682617\n",
            "Epoch 14: [51200/60000] Loss: 6.586274147033691\n",
            "Epoch 14: [57600/60000] Loss: 6.691715240478516\n",
            "Test result on epoch 14: Avg loss is 6.74819853515625\n",
            "Epoch 15: [0/60000] Loss: 7.344844818115234\n",
            "Epoch 15: [6400/60000] Loss: 7.265354633331299\n",
            "Epoch 15: [12800/60000] Loss: 6.9406938552856445\n",
            "Epoch 15: [19200/60000] Loss: 7.248801231384277\n",
            "Epoch 15: [25600/60000] Loss: 7.004281044006348\n",
            "Epoch 15: [32000/60000] Loss: 6.707592010498047\n",
            "Epoch 15: [38400/60000] Loss: 6.936085224151611\n",
            "Epoch 15: [44800/60000] Loss: 6.719977855682373\n",
            "Epoch 15: [51200/60000] Loss: 7.217947006225586\n",
            "Epoch 15: [57600/60000] Loss: 6.875776290893555\n",
            "Test result on epoch 15: Avg loss is 6.622849365234375\n",
            "Epoch 16: [0/60000] Loss: 6.898736476898193\n",
            "Epoch 16: [6400/60000] Loss: 7.117537975311279\n",
            "Epoch 16: [12800/60000] Loss: 6.402274131774902\n",
            "Epoch 16: [19200/60000] Loss: 7.292572975158691\n",
            "Epoch 16: [25600/60000] Loss: 7.095562934875488\n",
            "Epoch 16: [32000/60000] Loss: 7.165785312652588\n",
            "Epoch 16: [38400/60000] Loss: 6.300240516662598\n",
            "Epoch 16: [44800/60000] Loss: 6.286374568939209\n",
            "Epoch 16: [51200/60000] Loss: 6.428438186645508\n",
            "Epoch 16: [57600/60000] Loss: 6.486583709716797\n",
            "Test result on epoch 16: Avg loss is 6.54202900390625\n",
            "Epoch 17: [0/60000] Loss: 6.504639148712158\n",
            "Epoch 17: [6400/60000] Loss: 6.729557991027832\n",
            "Epoch 17: [12800/60000] Loss: 6.372763633728027\n",
            "Epoch 17: [19200/60000] Loss: 6.297957420349121\n",
            "Epoch 17: [25600/60000] Loss: 6.5950164794921875\n",
            "Epoch 17: [32000/60000] Loss: 7.168230056762695\n",
            "Epoch 17: [38400/60000] Loss: 6.655137538909912\n",
            "Epoch 17: [44800/60000] Loss: 6.876418113708496\n",
            "Epoch 17: [51200/60000] Loss: 6.14570951461792\n",
            "Epoch 17: [57600/60000] Loss: 6.484882354736328\n",
            "Test result on epoch 17: Avg loss is 6.48739072265625\n",
            "Epoch 18: [0/60000] Loss: 6.341541290283203\n",
            "Epoch 18: [6400/60000] Loss: 7.1240949630737305\n",
            "Epoch 18: [12800/60000] Loss: 6.3098320960998535\n",
            "Epoch 18: [19200/60000] Loss: 6.644218921661377\n",
            "Epoch 18: [25600/60000] Loss: 6.354037284851074\n",
            "Epoch 18: [32000/60000] Loss: 6.853537559509277\n",
            "Epoch 18: [38400/60000] Loss: 6.62660026550293\n",
            "Epoch 18: [44800/60000] Loss: 5.869584083557129\n",
            "Epoch 18: [51200/60000] Loss: 6.941941261291504\n",
            "Epoch 18: [57600/60000] Loss: 6.25010871887207\n",
            "Test result on epoch 18: Avg loss is 6.420314892578125\n",
            "Epoch 19: [0/60000] Loss: 6.789411544799805\n",
            "Epoch 19: [6400/60000] Loss: 6.98089599609375\n",
            "Epoch 19: [12800/60000] Loss: 7.095710277557373\n",
            "Epoch 19: [19200/60000] Loss: 6.403592109680176\n",
            "Epoch 19: [25600/60000] Loss: 6.558657646179199\n",
            "Epoch 19: [32000/60000] Loss: 6.130030155181885\n",
            "Epoch 19: [38400/60000] Loss: 6.394854545593262\n",
            "Epoch 19: [44800/60000] Loss: 6.582456588745117\n",
            "Epoch 19: [51200/60000] Loss: 6.766383171081543\n",
            "Epoch 19: [57600/60000] Loss: 5.996490478515625\n",
            "Test result on epoch 19: Avg loss is 6.326985986328125\n",
            "Epoch 20: [0/60000] Loss: 6.635372161865234\n",
            "Epoch 20: [6400/60000] Loss: 7.161120891571045\n",
            "Epoch 20: [12800/60000] Loss: 6.284425735473633\n",
            "Epoch 20: [19200/60000] Loss: 6.922817230224609\n",
            "Epoch 20: [25600/60000] Loss: 6.1159749031066895\n",
            "Epoch 20: [32000/60000] Loss: 6.348006248474121\n",
            "Epoch 20: [38400/60000] Loss: 6.435183525085449\n",
            "Epoch 20: [44800/60000] Loss: 6.49110221862793\n",
            "Epoch 20: [51200/60000] Loss: 6.677768230438232\n",
            "Epoch 20: [57600/60000] Loss: 6.76712703704834\n",
            "Test result on epoch 20: Avg loss is 6.30368603515625\n"
          ]
        }
      ]
    },
    {
      "cell_type": "code",
      "metadata": {
        "colab": {
          "base_uri": "https://localhost:8080/",
          "height": 641
        },
        "id": "lOn8y7SddxFQ",
        "outputId": "6bee86ba-29a9-4402-c3e8-be8cafd7e12a"
      },
      "source": [
        "batch_idx, (images_noisy, images_original) = next(enumerate(test_loader))\n",
        "images_noisy = images_noisy.to(device)\n",
        "output = AE(images_noisy).cpu().detach()\n",
        "images_noisy = images_noisy.cpu()\n",
        "\n",
        "fig, axes = plt.subplots(3, 3, figsize = (10, 10))\n",
        "grid = plt.GridSpec(3,1)\n",
        "titles = ['Original Images', 'Noisy Images', 'Reconstructed Images']\n",
        "\n",
        "for i in range(3):\n",
        "  row = fig.add_subplot(grid[i])\n",
        "  row.set_title(titles[i])\n",
        "  row.set_axis_off()\n",
        "\n",
        "for idx in range(3):\n",
        "  axes[0][idx].imshow(images_original[idx][0], cmap='gray')\n",
        "  axes[1][idx].imshow(images_noisy[idx][0], cmap='gray')\n",
        "  axes[2][idx].imshow(output[idx][0], cmap='gray')"
      ],
      "execution_count": null,
      "outputs": [
        {
          "output_type": "stream",
          "name": "stderr",
          "text": [
            "/usr/local/lib/python3.7/dist-packages/torch/nn/functional.py:1805: UserWarning: nn.functional.sigmoid is deprecated. Use torch.sigmoid instead.\n",
            "  warnings.warn(\"nn.functional.sigmoid is deprecated. Use torch.sigmoid instead.\")\n"
          ]
        },
        {
          "output_type": "display_data",
          "data": {
            "image/png": "[encoded data removed]",
            "text/plain": [
              "<Figure size 720x720 with 12 Axes>"
            ]
          },
          "metadata": {
            "needs_background": "light"
          }
        }
      ]
    }
  ]
}